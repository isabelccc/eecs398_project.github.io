{
 "cells": [
  {
   "cell_type": "code",
   "execution_count": 15,
   "metadata": {},
   "outputs": [
    {
     "name": "stdout",
     "output_type": "stream",
     "text": [
      "Defaulting to user installation because normal site-packages is not writeable\n",
      "Collecting openpyxl\n",
      "  Downloading openpyxl-3.1.5-py2.py3-none-any.whl (250 kB)\n",
      "\u001b[K     |████████████████████████████████| 250 kB 1.0 MB/s eta 0:00:01\n",
      "\u001b[?25hCollecting et-xmlfile\n",
      "  Downloading et_xmlfile-2.0.0-py3-none-any.whl (18 kB)\n",
      "Installing collected packages: et-xmlfile, openpyxl\n",
      "Successfully installed et-xmlfile-2.0.0 openpyxl-3.1.5\n",
      "\u001b[33mWARNING: You are using pip version 21.2.4; however, version 25.1.1 is available.\n",
      "You should consider upgrading via the '/Library/Developer/CommandLineTools/usr/bin/python3 -m pip install --upgrade pip' command.\u001b[0m\n",
      "Note: you may need to restart the kernel to use updated packages.\n"
     ]
    }
   ],
   "source": [
    "pip install openpyxl"
   ]
  },
  {
   "cell_type": "code",
   "execution_count": 11,
   "metadata": {},
   "outputs": [
    {
     "name": "stdout",
     "output_type": "stream",
     "text": [
      "Defaulting to user installation because normal site-packages is not writeable\n",
      "Collecting geopandas\n",
      "  Downloading geopandas-1.0.1-py3-none-any.whl (323 kB)\n",
      "\u001b[K     |████████████████████████████████| 323 kB 63 kB/s eta 0:00:01\n",
      "\u001b[?25hCollecting shapely\n",
      "  Downloading shapely-2.0.7-cp39-cp39-macosx_11_0_arm64.whl (1.3 MB)\n",
      "\u001b[K     |████████████████████████████████| 1.3 MB 566 kB/s eta 0:00:01\n",
      "\u001b[?25hCollecting folium\n",
      "  Downloading folium-0.19.7-py2.py3-none-any.whl (112 kB)\n",
      "\u001b[K     |████████████████████████████████| 112 kB 5.7 MB/s eta 0:00:01\n",
      "\u001b[?25hRequirement already satisfied: numpy>=1.22 in /Users/linl/Library/Python/3.9/lib/python/site-packages (from geopandas) (2.0.2)\n",
      "Collecting pyogrio>=0.7.2\n",
      "  Downloading pyogrio-0.11.0-cp39-cp39-macosx_12_0_arm64.whl (19.5 MB)\n",
      "\u001b[K     |████████████████████████████████| 19.5 MB 3.3 MB/s eta 0:00:01    |██▍                             | 1.4 MB 290 kB/s eta 0:01:03\n",
      "\u001b[?25hRequirement already satisfied: pandas>=1.4.0 in /Users/linl/Library/Python/3.9/lib/python/site-packages (from geopandas) (2.2.2)\n",
      "Collecting pyproj>=3.3.0\n",
      "  Downloading pyproj-3.6.1-cp39-cp39-macosx_11_0_arm64.whl (4.9 MB)\n",
      "\u001b[K     |████████████████████████████████| 4.9 MB 221 kB/s eta 0:00:01\n",
      "\u001b[?25hRequirement already satisfied: packaging in /Users/linl/Library/Python/3.9/lib/python/site-packages (from geopandas) (24.1)\n",
      "Collecting xyzservices\n",
      "  Downloading xyzservices-2025.4.0-py3-none-any.whl (90 kB)\n",
      "\u001b[K     |████████████████████████████████| 90 kB 265 kB/s eta 0:00:01\n",
      "\u001b[?25hCollecting branca>=0.6.0\n",
      "  Downloading branca-0.8.1-py3-none-any.whl (26 kB)\n",
      "Requirement already satisfied: requests in /Users/linl/Library/Python/3.9/lib/python/site-packages (from folium) (2.32.3)\n",
      "Requirement already satisfied: jinja2>=2.9 in /Users/linl/Library/Python/3.9/lib/python/site-packages (from folium) (3.1.4)\n",
      "Requirement already satisfied: MarkupSafe>=2.0 in /Users/linl/Library/Python/3.9/lib/python/site-packages (from jinja2>=2.9->folium) (2.1.5)\n",
      "Requirement already satisfied: python-dateutil>=2.8.2 in /Users/linl/Library/Python/3.9/lib/python/site-packages (from pandas>=1.4.0->geopandas) (2.9.0.post0)\n",
      "Requirement already satisfied: pytz>=2020.1 in /Users/linl/Library/Python/3.9/lib/python/site-packages (from pandas>=1.4.0->geopandas) (2024.2)\n",
      "Requirement already satisfied: tzdata>=2022.7 in /Users/linl/Library/Python/3.9/lib/python/site-packages (from pandas>=1.4.0->geopandas) (2024.1)\n",
      "Requirement already satisfied: certifi in /Users/linl/Library/Python/3.9/lib/python/site-packages (from pyogrio>=0.7.2->geopandas) (2024.8.30)\n",
      "Requirement already satisfied: six>=1.5 in /Library/Developer/CommandLineTools/Library/Frameworks/Python3.framework/Versions/3.9/lib/python3.9/site-packages (from python-dateutil>=2.8.2->pandas>=1.4.0->geopandas) (1.15.0)\n",
      "Requirement already satisfied: charset-normalizer<4,>=2 in /Users/linl/Library/Python/3.9/lib/python/site-packages (from requests->folium) (3.3.2)\n",
      "Requirement already satisfied: idna<4,>=2.5 in /Users/linl/Library/Python/3.9/lib/python/site-packages (from requests->folium) (3.8)\n",
      "Requirement already satisfied: urllib3<3,>=1.21.1 in /Users/linl/Library/Python/3.9/lib/python/site-packages (from requests->folium) (2.2.3)\n",
      "Installing collected packages: xyzservices, shapely, pyproj, pyogrio, branca, geopandas, folium\n",
      "Successfully installed branca-0.8.1 folium-0.19.7 geopandas-1.0.1 pyogrio-0.11.0 pyproj-3.6.1 shapely-2.0.7 xyzservices-2025.4.0\n",
      "\u001b[33mWARNING: You are using pip version 21.2.4; however, version 25.1.1 is available.\n",
      "You should consider upgrading via the '/Library/Developer/CommandLineTools/usr/bin/python3 -m pip install --upgrade pip' command.\u001b[0m\n",
      "Note: you may need to restart the kernel to use updated packages.\n"
     ]
    }
   ],
   "source": [
    "pip install geopandas shapely folium"
   ]
  },
  {
   "cell_type": "code",
   "execution_count": 16,
   "metadata": {},
   "outputs": [
    {
     "name": "stdout",
     "output_type": "stream",
     "text": [
      "Index(['variables', 'OBS', 'YEAR', 'MONTH', 'U.S._STATE', 'POSTAL.CODE',\n",
      "       'NERC.REGION', 'CLIMATE.REGION', 'ANOMALY.LEVEL', 'CLIMATE.CATEGORY',\n",
      "       'OUTAGE.START.DATE', 'OUTAGE.START.TIME', 'OUTAGE.RESTORATION.DATE',\n",
      "       'OUTAGE.RESTORATION.TIME', 'CAUSE.CATEGORY', 'CAUSE.CATEGORY.DETAIL',\n",
      "       'HURRICANE.NAMES', 'OUTAGE.DURATION', 'DEMAND.LOSS.MW',\n",
      "       'CUSTOMERS.AFFECTED', 'RES.PRICE', 'COM.PRICE', 'IND.PRICE',\n",
      "       'TOTAL.PRICE', 'RES.SALES', 'COM.SALES', 'IND.SALES', 'TOTAL.SALES',\n",
      "       'RES.PERCEN', 'COM.PERCEN', 'IND.PERCEN', 'RES.CUSTOMERS',\n",
      "       'COM.CUSTOMERS', 'IND.CUSTOMERS', 'TOTAL.CUSTOMERS', 'RES.CUST.PCT',\n",
      "       'COM.CUST.PCT', 'IND.CUST.PCT', 'PC.REALGSP.STATE', 'PC.REALGSP.USA',\n",
      "       'PC.REALGSP.REL', 'PC.REALGSP.CHANGE', 'UTIL.REALGSP', 'TOTAL.REALGSP',\n",
      "       'UTIL.CONTRI', 'PI.UTIL.OFUSA', 'POPULATION', 'POPPCT_URBAN',\n",
      "       'POPPCT_UC', 'POPDEN_URBAN', 'POPDEN_UC', 'POPDEN_RURAL',\n",
      "       'AREAPCT_URBAN', 'AREAPCT_UC', 'PCT_LAND', 'PCT_WATER_TOT',\n",
      "       'PCT_WATER_INLAND'],\n",
      "      dtype='object')\n"
     ]
    }
   ],
   "source": [
    "import pandas as pd\n",
    "\n",
    "df = pd.read_excel(\"outage.xlsx\", header=5)\n",
    "print(df.columns)\n",
    "df.head()\n",
    "\n",
    "df['U.S._STATE'].unique()\n",
    "df_valid = df[df[\"U.S._STATE\"].notna()]\n"
   ]
  },
  {
   "cell_type": "markdown",
   "metadata": {},
   "source": [
    "question:\n",
    "What are the characteristics of major power outages with higher severity? Variables to consider include location, time, climate, land-use characteristics, electricity consumption patterns, economic characteristics, etc. What risk factors may an energy company want to look into when predicting the location and severity of its next major power outage?\n",
    "## Step 2: Data Cleaning and Exploratory Data Analysis\n"
   ]
  },
  {
   "cell_type": "code",
   "execution_count": null,
   "metadata": {},
   "outputs": [
    {
     "name": "stdout",
     "output_type": "stream",
     "text": [
      "  U.S._STATE        OUTAGE.START  OUTAGE.RESTORATION  DURATION_HOURS\n",
      "1  Minnesota 2011-07-01 17:00:00 2011-07-03 20:00:00       51.000000\n",
      "2  Minnesota 2014-05-11 18:38:00 2014-05-11 18:39:00        0.016667\n",
      "3  Minnesota 2010-10-26 20:00:00 2010-10-28 22:00:00       50.000000\n",
      "4  Minnesota 2012-06-19 04:30:00 2012-06-20 23:00:00       42.500000\n",
      "5  Minnesota 2015-07-18 02:00:00 2015-07-19 07:00:00       29.000000\n"
     ]
    },
    {
     "name": "stderr",
     "output_type": "stream",
     "text": [
      "/var/folders/8b/h0bgsxld7w30r4lmjg26k6jc0000gn/T/ipykernel_76224/1019951284.py:1: UserWarning: Could not infer format, so each element will be parsed individually, falling back to `dateutil`. To ensure parsing is consistent and as-expected, please specify a format.\n",
      "  df[\"OUTAGE.START\"] = pd.to_datetime(\n",
      "/var/folders/8b/h0bgsxld7w30r4lmjg26k6jc0000gn/T/ipykernel_76224/1019951284.py:6: UserWarning: Could not infer format, so each element will be parsed individually, falling back to `dateutil`. To ensure parsing is consistent and as-expected, please specify a format.\n",
      "  df[\"OUTAGE.RESTORATION\"] = pd.to_datetime(\n"
     ]
    }
   ],
   "source": [
    "df_valid[\"OUTAGE.START\"] = pd.to_datetime(\n",
    "    df_valid[\"OUTAGE.START.DATE\"].astype(str) + \" \" + df_valid[\"OUTAGE.START.TIME\"].astype(str),\n",
    "    errors='coerce'\n",
    ")\n",
    "\n",
    "df_valid[\"OUTAGE.RESTORATION\"] = pd.to_datetime(\n",
    "    df_valid[\"OUTAGE.RESTORATION.DATE\"].astype(str) + \" \" + df_valid[\"OUTAGE.RESTORATION.TIME\"].astype(str),\n",
    "    errors='coerce'\n",
    ")\n",
    "\n",
    "df_valid[\"DURATION_HOURS\"] = (df_valid[\"OUTAGE.RESTORATION\"] - df_valid[\"OUTAGE.START\"]).dt.total_seconds() / 3600\n",
    "df_valid.dropna(subset=[\"OUTAGE.START\", \"OUTAGE.RESTORATION\", \"DURATION_HOURS\"], inplace=True)\n",
    "\n",
    "\n",
    "print(df_valid[[\"U.S._STATE\", \"OUTAGE.START\", \"OUTAGE.RESTORATION\", \"DURATION_HOURS\"]].head())"
   ]
  },
  {
   "cell_type": "code",
   "execution_count": 30,
   "metadata": {},
   "outputs": [
    {
     "name": "stderr",
     "output_type": "stream",
     "text": [
      "/var/folders/8b/h0bgsxld7w30r4lmjg26k6jc0000gn/T/ipykernel_76224/859558140.py:59: SettingWithCopyWarning: \n",
      "A value is trying to be set on a copy of a slice from a DataFrame.\n",
      "Try using .loc[row_indexer,col_indexer] = value instead\n",
      "\n",
      "See the caveats in the documentation: https://pandas.pydata.org/pandas-docs/stable/user_guide/indexing.html#returning-a-view-versus-a-copy\n",
      "  df_valid[\"LAT\"] = df_valid[\"U.S._STATE\"].map(lambda x: state_coords.get(x, [None, None])[0])\n",
      "/var/folders/8b/h0bgsxld7w30r4lmjg26k6jc0000gn/T/ipykernel_76224/859558140.py:60: SettingWithCopyWarning: \n",
      "A value is trying to be set on a copy of a slice from a DataFrame.\n",
      "Try using .loc[row_indexer,col_indexer] = value instead\n",
      "\n",
      "See the caveats in the documentation: https://pandas.pydata.org/pandas-docs/stable/user_guide/indexing.html#returning-a-view-versus-a-copy\n",
      "  df_valid[\"LON\"] = df_valid[\"U.S._STATE\"].map(lambda x: state_coords.get(x, [None, None])[1])\n"
     ]
    }
   ],
   "source": [
    "import folium\n",
    "import pandas as pd\n",
    "import geopandas as gpd\n",
    "from shapely.geometry import Point, Polygon\n",
    "state_coords = {\n",
    "    'Alabama': [32.806671, -86.791130],\n",
    "    'Alaska': [61.370716, -152.404419],\n",
    "    'Arizona': [33.729759, -111.431221],\n",
    "    'Arkansas': [34.969704, -92.373123],\n",
    "    'California': [36.116203, -119.681564],\n",
    "    'Colorado': [39.059811, -105.311104],\n",
    "    'Connecticut': [41.597782, -72.755371],\n",
    "    'Delaware': [39.318523, -75.507141],\n",
    "    'District of Columbia': [38.897438, -77.026817],\n",
    "    'Florida': [27.766279, -81.686783],\n",
    "    'Georgia': [33.040619, -83.643074],\n",
    "    'Hawaii': [21.094318, -157.498337],\n",
    "    'Idaho': [44.240459, -114.478828],\n",
    "    'Illinois': [40.349457, -88.986137],\n",
    "    'Indiana': [39.849426, -86.258278],\n",
    "    'Iowa': [42.011539, -93.210526],\n",
    "    'Kansas': [38.526600, -96.726486],\n",
    "    'Kentucky': [37.668140, -84.670067],\n",
    "    'Louisiana': [31.169546, -91.867805],\n",
    "    'Maine': [44.693947, -69.381927],\n",
    "    'Maryland': [39.063946, -76.802101],\n",
    "    'Massachusetts': [42.230171, -71.530106],\n",
    "    'Michigan': [43.326618, -84.536095],\n",
    "    'Minnesota': [45.694454, -93.900192],\n",
    "    'Mississippi': [32.741646, -89.678696],\n",
    "    'Missouri': [38.456085, -92.288368],\n",
    "    'Montana': [46.921925, -110.454353],\n",
    "    'Nebraska': [41.125370, -98.268082],\n",
    "    'Nevada': [38.313515, -117.055374],\n",
    "    'New Hampshire': [43.452492, -71.563896],\n",
    "    'New Jersey': [40.298904, -74.521011],\n",
    "    'New Mexico': [34.840515, -106.248482],\n",
    "    'New York': [42.165726, -74.948051],\n",
    "    'North Carolina': [35.630066, -79.806419],\n",
    "    'North Dakota': [47.528912, -99.784012],\n",
    "    'Ohio': [40.388783, -82.764915],\n",
    "    'Oklahoma': [35.565342, -96.928917],\n",
    "    'Oregon': [44.572021, -122.070938],\n",
    "    'Pennsylvania': [40.590752, -77.209755],\n",
    "    'Rhode Island': [41.680893, -71.511780],\n",
    "    'South Carolina': [33.856892, -80.945007],\n",
    "    'South Dakota': [44.299782, -99.438828],\n",
    "    'Tennessee': [35.747845, -86.692345],\n",
    "    'Texas': [31.054487, -97.563461],\n",
    "    'Utah': [40.150032, -111.862434],\n",
    "    'Vermont': [44.045876, -72.710686],\n",
    "    'Virginia': [37.769337, -78.169968],\n",
    "    'Washington': [47.400902, -121.490494],\n",
    "    'West Virginia': [38.491226, -80.954570],\n",
    "    'Wisconsin': [44.268543, -89.616508],\n",
    "    'Wyoming': [42.755966, -107.302490]\n",
    "}\n",
    "\n",
    "df_valid[\"LAT\"] = df_valid[\"U.S._STATE\"].map(lambda x: state_coords.get(x, [None, None])[0])\n",
    "df_valid[\"LON\"] = df_valid[\"U.S._STATE\"].map(lambda x: state_coords.get(x, [None, None])[1])\n",
    "\n",
    "# 丢弃没有坐标的\n",
    "df_valid = df_valid.dropna(subset=[\"LAT\", \"LON\"])\n",
    "\n",
    "# 创建 GeoDataFrame\n",
    "gdf = gpd.GeoDataFrame(df_valid, geometry=gpd.points_from_xy(df_valid[\"LON\"], df_valid[\"LAT\"]), crs=\"EPSG:4326\")\n"
   ]
  },
  {
   "cell_type": "code",
   "execution_count": 42,
   "metadata": {},
   "outputs": [],
   "source": [
    "\n",
    "import folium\n",
    "\n",
    "# 创建地图\n",
    "map = folium.Map(location=[37.8, -96], zoom_start=3)\n",
    "\n",
    "# 遍历数据，按州中心画圆点，大小与受影响人数成比例\n",
    "for _, row in df[df[\"U.S._STATE\"].notna() & df[\"CUSTOMERS.AFFECTED\"].notna()].iterrows():\n",
    "    state = row[\"U.S._STATE\"]\n",
    "    if state in state_coords:\n",
    "        affected = row[\"CUSTOMERS.AFFECTED\"]\n",
    "        \n",
    "        # 控制大小，使用对数放缩，防止极值过大\n",
    "        radius = min(30, max(4, affected**0.3 / 3)) \n",
    "        color = 'red' if affected > 500_000 else 'orange' if affected > 100_000 else 'green'\n",
    "        \n",
    "        folium.CircleMarker(\n",
    "            location=state_coords[state],\n",
    "            radius=radius,\n",
    "            color=color,\n",
    "            fill=True,\n",
    "            fill_opacity=0.7,\n",
    "            popup=f\"{state}<br>Cause: {row['CAUSE.CATEGORY']}<br>Affected: {int(affected):,}\"\n",
    "        ).add_to(map)\n",
    "\n",
    "# 保存 HTML\n",
    "with open(\"outages_map.html\", \"w\") as f:\n",
    "    f.write(map._repr_html_())"
   ]
  },
  {
   "cell_type": "markdown",
   "metadata": {},
   "source": [
    "## Step 3: Framing a Prediction Problem\n",
    "Predict the cause of a major power outage.\n",
    "\n",
    "In this project, we aim to predict the cause of a major power outage in the United States using relevant environmental, regional, and temporal data available at the time of the outage. The goal is to assist utility companies and policy-makers in proactively identifying risk factors and preparing mitigation strategies.\n",
    "\t•\tProblem Type: This is a multiclass classification task, as the target variable contains more than two distinct categories.\n",
    "\t•\tResponse Variable: CAUSE.CATEGORY — this column represents the high-level cause of the power outage (e.g., intentional attack, equipment failure, public appeal, etc.). We chose this variable because understanding the cause of an outage has practical value for prevention and planning.\n",
    "\t•\tEvaluation Metric: We use the macro-averaged F1-score to evaluate model performance. This metric is more appropriate than accuracy because our dataset is imbalanced, with some cause categories appearing much less frequently than others. Macro F1 equally weights each class, ensuring that rare but important categories are not ignored.\n",
    "\n"
   ]
  },
  {
   "cell_type": "code",
   "execution_count": null,
   "metadata": {},
   "outputs": [],
   "source": []
  }
 ],
 "metadata": {
  "kernelspec": {
   "display_name": "Python 3",
   "language": "python",
   "name": "python3"
  },
  "language_info": {
   "codemirror_mode": {
    "name": "ipython",
    "version": 3
   },
   "file_extension": ".py",
   "mimetype": "text/x-python",
   "name": "python",
   "nbconvert_exporter": "python",
   "pygments_lexer": "ipython3",
   "version": "3.9.6"
  }
 },
 "nbformat": 4,
 "nbformat_minor": 2
}
